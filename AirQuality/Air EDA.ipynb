{
 "cells": [
  {
   "cell_type": "code",
   "execution_count": 1,
   "id": "d6102219",
   "metadata": {},
   "outputs": [],
   "source": [
    "import pandas as pd\n",
    "import numpy as np\n",
    "import matplotlib.pyplot as plt\n",
    "import seaborn as sns\n",
    "%matplotlib inline\n",
    "\n",
    "plt.style.use('seaborn')"
   ]
  },
  {
   "cell_type": "markdown",
   "id": "2a7f67c2",
   "metadata": {},
   "source": [
    "## Questions that we want to answer through our analysis:\n",
    "### 1. Yearly averages: Out of the four pollutants - SO2, NO2, ozone, and PM2.5\n",
    "which have yearly average levels that regularly surpass the \n",
    "prescribed annual standards?\n",
    "### 2. Daily standards: For the pollutants of concern, on how many days \n",
    "in each year are the daily standards exceeded?\n",
    "### 3. Temporal variation: Which are the months where the pollution \n",
    "levels exceed critical levels on most days?"
   ]
  },
  {
   "cell_type": "code",
   "execution_count": 2,
   "id": "73777c20",
   "metadata": {},
   "outputs": [
    {
     "data": {
      "text/html": [
       "<div>\n",
       "<style scoped>\n",
       "    .dataframe tbody tr th:only-of-type {\n",
       "        vertical-align: middle;\n",
       "    }\n",
       "\n",
       "    .dataframe tbody tr th {\n",
       "        vertical-align: top;\n",
       "    }\n",
       "\n",
       "    .dataframe thead th {\n",
       "        text-align: right;\n",
       "    }\n",
       "</style>\n",
       "<table border=\"1\" class=\"dataframe\">\n",
       "  <thead>\n",
       "    <tr style=\"text-align: right;\">\n",
       "      <th></th>\n",
       "      <th>From Date</th>\n",
       "      <th>To Date</th>\n",
       "      <th>PM2.5</th>\n",
       "      <th>SO2</th>\n",
       "      <th>Ozone</th>\n",
       "      <th>NO2</th>\n",
       "    </tr>\n",
       "  </thead>\n",
       "  <tbody>\n",
       "    <tr>\n",
       "      <th>0</th>\n",
       "      <td>01-01-2014 00:00</td>\n",
       "      <td>02-01-2014 00:00</td>\n",
       "      <td>None</td>\n",
       "      <td>22.7</td>\n",
       "      <td>8.63</td>\n",
       "      <td>5.59</td>\n",
       "    </tr>\n",
       "    <tr>\n",
       "      <th>1</th>\n",
       "      <td>02-01-2014 00:00</td>\n",
       "      <td>03-01-2014 00:00</td>\n",
       "      <td>None</td>\n",
       "      <td>8.72</td>\n",
       "      <td>8.43</td>\n",
       "      <td>3.68</td>\n",
       "    </tr>\n",
       "    <tr>\n",
       "      <th>2</th>\n",
       "      <td>03-01-2014 00:00</td>\n",
       "      <td>04-01-2014 00:00</td>\n",
       "      <td>None</td>\n",
       "      <td>13.83</td>\n",
       "      <td>9.77</td>\n",
       "      <td>3.83</td>\n",
       "    </tr>\n",
       "    <tr>\n",
       "      <th>3</th>\n",
       "      <td>04-01-2014 00:00</td>\n",
       "      <td>05-01-2014 00:00</td>\n",
       "      <td>None</td>\n",
       "      <td>27.64</td>\n",
       "      <td>6.83</td>\n",
       "      <td>9.64</td>\n",
       "    </tr>\n",
       "    <tr>\n",
       "      <th>4</th>\n",
       "      <td>05-01-2014 00:00</td>\n",
       "      <td>06-01-2014 00:00</td>\n",
       "      <td>None</td>\n",
       "      <td>37.17</td>\n",
       "      <td>7.34</td>\n",
       "      <td>11.06</td>\n",
       "    </tr>\n",
       "  </tbody>\n",
       "</table>\n",
       "</div>"
      ],
      "text/plain": [
       "          From Date           To Date PM2.5    SO2 Ozone    NO2\n",
       "0  01-01-2014 00:00  02-01-2014 00:00  None   22.7  8.63   5.59\n",
       "1  02-01-2014 00:00  03-01-2014 00:00  None   8.72  8.43   3.68\n",
       "2  03-01-2014 00:00  04-01-2014 00:00  None  13.83  9.77   3.83\n",
       "3  04-01-2014 00:00  05-01-2014 00:00  None  27.64  6.83   9.64\n",
       "4  05-01-2014 00:00  06-01-2014 00:00  None  37.17  7.34  11.06"
      ]
     },
     "execution_count": 2,
     "metadata": {},
     "output_type": "execute_result"
    }
   ],
   "source": [
    "df = pd.read_csv('NSIT Dwarka.csv')\n",
    "df.head()"
   ]
  },
  {
   "cell_type": "code",
   "execution_count": 3,
   "id": "fbf8ac92",
   "metadata": {},
   "outputs": [
    {
     "name": "stdout",
     "output_type": "stream",
     "text": [
      "<class 'pandas.core.frame.DataFrame'>\n",
      "RangeIndex: 2192 entries, 0 to 2191\n",
      "Data columns (total 6 columns):\n",
      " #   Column     Non-Null Count  Dtype \n",
      "---  ------     --------------  ----- \n",
      " 0   From Date  2191 non-null   object\n",
      " 1   To Date    2191 non-null   object\n",
      " 2   PM2.5      2191 non-null   object\n",
      " 3   SO2        2187 non-null   object\n",
      " 4   Ozone      2187 non-null   object\n",
      " 5   NO2        2190 non-null   object\n",
      "dtypes: object(6)\n",
      "memory usage: 102.9+ KB\n"
     ]
    }
   ],
   "source": [
    "df.info()"
   ]
  },
  {
   "cell_type": "code",
   "execution_count": 4,
   "id": "a6ba6f05",
   "metadata": {
    "scrolled": true
   },
   "outputs": [
    {
     "data": {
      "text/plain": [
       "From Date    1\n",
       "To Date      1\n",
       "PM2.5        1\n",
       "SO2          5\n",
       "Ozone        5\n",
       "NO2          2\n",
       "dtype: int64"
      ]
     },
     "execution_count": 4,
     "metadata": {},
     "output_type": "execute_result"
    }
   ],
   "source": [
    "df.isna().sum()"
   ]
  },
  {
   "cell_type": "code",
   "execution_count": 5,
   "id": "71cb5c91",
   "metadata": {},
   "outputs": [],
   "source": [
    "df = df.replace({'None':np.nan})"
   ]
  },
  {
   "cell_type": "code",
   "execution_count": 6,
   "id": "7fa22b95",
   "metadata": {
    "scrolled": true
   },
   "outputs": [
    {
     "data": {
      "text/plain": [
       "From Date      1\n",
       "To Date        1\n",
       "PM2.5        562\n",
       "SO2           84\n",
       "Ozone        106\n",
       "NO2          105\n",
       "dtype: int64"
      ]
     },
     "execution_count": 6,
     "metadata": {},
     "output_type": "execute_result"
    }
   ],
   "source": [
    "df.isna().sum()"
   ]
  },
  {
   "cell_type": "code",
   "execution_count": 7,
   "id": "03e34ee0",
   "metadata": {},
   "outputs": [
    {
     "data": {
      "text/plain": [
       "Index(['From Date', 'To Date', 'PM2.5', 'SO2', 'Ozone', 'NO2'], dtype='object')"
      ]
     },
     "execution_count": 7,
     "metadata": {},
     "output_type": "execute_result"
    }
   ],
   "source": [
    "df.columns"
   ]
  },
  {
   "cell_type": "code",
   "execution_count": 8,
   "id": "900b8ace",
   "metadata": {},
   "outputs": [],
   "source": [
    "df[['From Date', 'To Date']] = df[['From Date', 'To Date']].apply(pd.to_datetime)\n",
    "df[['PM2.5', 'SO2', 'Ozone', 'NO2']] = df[['PM2.5', 'SO2', 'Ozone', 'NO2']].apply(pd.to_numeric)"
   ]
  },
  {
   "cell_type": "code",
   "execution_count": 9,
   "id": "2558f7a4",
   "metadata": {},
   "outputs": [
    {
     "name": "stdout",
     "output_type": "stream",
     "text": [
      "<class 'pandas.core.frame.DataFrame'>\n",
      "RangeIndex: 2192 entries, 0 to 2191\n",
      "Data columns (total 6 columns):\n",
      " #   Column     Non-Null Count  Dtype         \n",
      "---  ------     --------------  -----         \n",
      " 0   From Date  2191 non-null   datetime64[ns]\n",
      " 1   To Date    2191 non-null   datetime64[ns]\n",
      " 2   PM2.5      1630 non-null   float64       \n",
      " 3   SO2        2108 non-null   float64       \n",
      " 4   Ozone      2086 non-null   float64       \n",
      " 5   NO2        2087 non-null   float64       \n",
      "dtypes: datetime64[ns](2), float64(4)\n",
      "memory usage: 102.9 KB\n"
     ]
    }
   ],
   "source": [
    "df.info()"
   ]
  },
  {
   "cell_type": "code",
   "execution_count": 10,
   "id": "ed929133",
   "metadata": {},
   "outputs": [],
   "source": [
    "anual_std = 10\n",
    "\n",
    "def above_std(x):\n",
    "    if x > anual_std:\n",
    "        return True\n",
    "    else:\n",
    "        return False"
   ]
  },
  {
   "cell_type": "code",
   "execution_count": 11,
   "id": "f0923699",
   "metadata": {},
   "outputs": [],
   "source": [
    "mask_1 = df[['PM2.5', 'SO2', 'Ozone', 'NO2']].applymap(above_std)"
   ]
  },
  {
   "cell_type": "code",
   "execution_count": 12,
   "id": "f5d1b8f1",
   "metadata": {},
   "outputs": [
    {
     "data": {
      "text/html": [
       "<div>\n",
       "<style scoped>\n",
       "    .dataframe tbody tr th:only-of-type {\n",
       "        vertical-align: middle;\n",
       "    }\n",
       "\n",
       "    .dataframe tbody tr th {\n",
       "        vertical-align: top;\n",
       "    }\n",
       "\n",
       "    .dataframe thead th {\n",
       "        text-align: right;\n",
       "    }\n",
       "</style>\n",
       "<table border=\"1\" class=\"dataframe\">\n",
       "  <thead>\n",
       "    <tr style=\"text-align: right;\">\n",
       "      <th></th>\n",
       "      <th>From Date</th>\n",
       "      <th>To Date</th>\n",
       "      <th>PM2.5</th>\n",
       "      <th>SO2</th>\n",
       "      <th>Ozone</th>\n",
       "      <th>NO2</th>\n",
       "    </tr>\n",
       "  </thead>\n",
       "  <tbody>\n",
       "    <tr>\n",
       "      <th>0</th>\n",
       "      <td>NaT</td>\n",
       "      <td>NaT</td>\n",
       "      <td>NaN</td>\n",
       "      <td>22.70</td>\n",
       "      <td>NaN</td>\n",
       "      <td>NaN</td>\n",
       "    </tr>\n",
       "    <tr>\n",
       "      <th>1</th>\n",
       "      <td>NaT</td>\n",
       "      <td>NaT</td>\n",
       "      <td>NaN</td>\n",
       "      <td>NaN</td>\n",
       "      <td>NaN</td>\n",
       "      <td>NaN</td>\n",
       "    </tr>\n",
       "    <tr>\n",
       "      <th>2</th>\n",
       "      <td>NaT</td>\n",
       "      <td>NaT</td>\n",
       "      <td>NaN</td>\n",
       "      <td>13.83</td>\n",
       "      <td>NaN</td>\n",
       "      <td>NaN</td>\n",
       "    </tr>\n",
       "    <tr>\n",
       "      <th>3</th>\n",
       "      <td>NaT</td>\n",
       "      <td>NaT</td>\n",
       "      <td>NaN</td>\n",
       "      <td>27.64</td>\n",
       "      <td>NaN</td>\n",
       "      <td>NaN</td>\n",
       "    </tr>\n",
       "    <tr>\n",
       "      <th>4</th>\n",
       "      <td>NaT</td>\n",
       "      <td>NaT</td>\n",
       "      <td>NaN</td>\n",
       "      <td>37.17</td>\n",
       "      <td>NaN</td>\n",
       "      <td>11.06</td>\n",
       "    </tr>\n",
       "    <tr>\n",
       "      <th>...</th>\n",
       "      <td>...</td>\n",
       "      <td>...</td>\n",
       "      <td>...</td>\n",
       "      <td>...</td>\n",
       "      <td>...</td>\n",
       "      <td>...</td>\n",
       "    </tr>\n",
       "    <tr>\n",
       "      <th>2187</th>\n",
       "      <td>NaT</td>\n",
       "      <td>NaT</td>\n",
       "      <td>254.75</td>\n",
       "      <td>14.25</td>\n",
       "      <td>NaN</td>\n",
       "      <td>31.21</td>\n",
       "    </tr>\n",
       "    <tr>\n",
       "      <th>2188</th>\n",
       "      <td>NaT</td>\n",
       "      <td>NaT</td>\n",
       "      <td>318.94</td>\n",
       "      <td>14.67</td>\n",
       "      <td>15.29</td>\n",
       "      <td>42.71</td>\n",
       "    </tr>\n",
       "    <tr>\n",
       "      <th>2189</th>\n",
       "      <td>NaT</td>\n",
       "      <td>NaT</td>\n",
       "      <td>263.01</td>\n",
       "      <td>16.88</td>\n",
       "      <td>NaN</td>\n",
       "      <td>46.10</td>\n",
       "    </tr>\n",
       "    <tr>\n",
       "      <th>2190</th>\n",
       "      <td>NaT</td>\n",
       "      <td>NaT</td>\n",
       "      <td>207.19</td>\n",
       "      <td>NaN</td>\n",
       "      <td>13.06</td>\n",
       "      <td>32.44</td>\n",
       "    </tr>\n",
       "    <tr>\n",
       "      <th>2191</th>\n",
       "      <td>NaT</td>\n",
       "      <td>NaT</td>\n",
       "      <td>NaN</td>\n",
       "      <td>NaN</td>\n",
       "      <td>NaN</td>\n",
       "      <td>NaN</td>\n",
       "    </tr>\n",
       "  </tbody>\n",
       "</table>\n",
       "<p>2192 rows × 6 columns</p>\n",
       "</div>"
      ],
      "text/plain": [
       "     From Date To Date   PM2.5    SO2  Ozone    NO2\n",
       "0          NaT     NaT     NaN  22.70    NaN    NaN\n",
       "1          NaT     NaT     NaN    NaN    NaN    NaN\n",
       "2          NaT     NaT     NaN  13.83    NaN    NaN\n",
       "3          NaT     NaT     NaN  27.64    NaN    NaN\n",
       "4          NaT     NaT     NaN  37.17    NaN  11.06\n",
       "...        ...     ...     ...    ...    ...    ...\n",
       "2187       NaT     NaT  254.75  14.25    NaN  31.21\n",
       "2188       NaT     NaT  318.94  14.67  15.29  42.71\n",
       "2189       NaT     NaT  263.01  16.88    NaN  46.10\n",
       "2190       NaT     NaT  207.19    NaN  13.06  32.44\n",
       "2191       NaT     NaT     NaN    NaN    NaN    NaN\n",
       "\n",
       "[2192 rows x 6 columns]"
      ]
     },
     "execution_count": 12,
     "metadata": {},
     "output_type": "execute_result"
    }
   ],
   "source": [
    "df[mask_1]"
   ]
  },
  {
   "cell_type": "code",
   "execution_count": 13,
   "id": "d3d4fed3",
   "metadata": {},
   "outputs": [
    {
     "data": {
      "text/html": [
       "<div>\n",
       "<style scoped>\n",
       "    .dataframe tbody tr th:only-of-type {\n",
       "        vertical-align: middle;\n",
       "    }\n",
       "\n",
       "    .dataframe tbody tr th {\n",
       "        vertical-align: top;\n",
       "    }\n",
       "\n",
       "    .dataframe thead th {\n",
       "        text-align: right;\n",
       "    }\n",
       "</style>\n",
       "<table border=\"1\" class=\"dataframe\">\n",
       "  <thead>\n",
       "    <tr style=\"text-align: right;\">\n",
       "      <th></th>\n",
       "      <th>From Date</th>\n",
       "      <th>To Date</th>\n",
       "      <th>PM2.5</th>\n",
       "      <th>SO2</th>\n",
       "      <th>Ozone</th>\n",
       "      <th>NO2</th>\n",
       "    </tr>\n",
       "  </thead>\n",
       "  <tbody>\n",
       "    <tr>\n",
       "      <th>0</th>\n",
       "      <td>2014-01-01</td>\n",
       "      <td>2014-02-01</td>\n",
       "      <td>NaN</td>\n",
       "      <td>22.70</td>\n",
       "      <td>8.63</td>\n",
       "      <td>5.59</td>\n",
       "    </tr>\n",
       "    <tr>\n",
       "      <th>1</th>\n",
       "      <td>2014-02-01</td>\n",
       "      <td>2014-03-01</td>\n",
       "      <td>NaN</td>\n",
       "      <td>8.72</td>\n",
       "      <td>8.43</td>\n",
       "      <td>3.68</td>\n",
       "    </tr>\n",
       "    <tr>\n",
       "      <th>2</th>\n",
       "      <td>2014-03-01</td>\n",
       "      <td>2014-04-01</td>\n",
       "      <td>NaN</td>\n",
       "      <td>13.83</td>\n",
       "      <td>9.77</td>\n",
       "      <td>3.83</td>\n",
       "    </tr>\n",
       "    <tr>\n",
       "      <th>3</th>\n",
       "      <td>2014-04-01</td>\n",
       "      <td>2014-05-01</td>\n",
       "      <td>NaN</td>\n",
       "      <td>27.64</td>\n",
       "      <td>6.83</td>\n",
       "      <td>9.64</td>\n",
       "    </tr>\n",
       "    <tr>\n",
       "      <th>4</th>\n",
       "      <td>2014-05-01</td>\n",
       "      <td>2014-06-01</td>\n",
       "      <td>NaN</td>\n",
       "      <td>37.17</td>\n",
       "      <td>7.34</td>\n",
       "      <td>11.06</td>\n",
       "    </tr>\n",
       "  </tbody>\n",
       "</table>\n",
       "</div>"
      ],
      "text/plain": [
       "   From Date    To Date  PM2.5    SO2  Ozone    NO2\n",
       "0 2014-01-01 2014-02-01    NaN  22.70   8.63   5.59\n",
       "1 2014-02-01 2014-03-01    NaN   8.72   8.43   3.68\n",
       "2 2014-03-01 2014-04-01    NaN  13.83   9.77   3.83\n",
       "3 2014-04-01 2014-05-01    NaN  27.64   6.83   9.64\n",
       "4 2014-05-01 2014-06-01    NaN  37.17   7.34  11.06"
      ]
     },
     "execution_count": 13,
     "metadata": {},
     "output_type": "execute_result"
    }
   ],
   "source": [
    "df.head()"
   ]
  },
  {
   "cell_type": "code",
   "execution_count": 14,
   "id": "6af7696c",
   "metadata": {},
   "outputs": [],
   "source": [
    "df_pollutents = df.drop(columns=['To Date'],axis=1)"
   ]
  },
  {
   "cell_type": "code",
   "execution_count": 15,
   "id": "4af5d346",
   "metadata": {},
   "outputs": [],
   "source": [
    "df_pollutents.set_index('From Date',inplace=True)"
   ]
  },
  {
   "cell_type": "code",
   "execution_count": 16,
   "id": "09f69f6a",
   "metadata": {},
   "outputs": [
    {
     "data": {
      "text/html": [
       "<div>\n",
       "<style scoped>\n",
       "    .dataframe tbody tr th:only-of-type {\n",
       "        vertical-align: middle;\n",
       "    }\n",
       "\n",
       "    .dataframe tbody tr th {\n",
       "        vertical-align: top;\n",
       "    }\n",
       "\n",
       "    .dataframe thead th {\n",
       "        text-align: right;\n",
       "    }\n",
       "</style>\n",
       "<table border=\"1\" class=\"dataframe\">\n",
       "  <thead>\n",
       "    <tr style=\"text-align: right;\">\n",
       "      <th></th>\n",
       "      <th>PM2.5</th>\n",
       "      <th>SO2</th>\n",
       "      <th>Ozone</th>\n",
       "      <th>NO2</th>\n",
       "    </tr>\n",
       "    <tr>\n",
       "      <th>From Date</th>\n",
       "      <th></th>\n",
       "      <th></th>\n",
       "      <th></th>\n",
       "      <th></th>\n",
       "    </tr>\n",
       "  </thead>\n",
       "  <tbody>\n",
       "    <tr>\n",
       "      <th>2014-01-01</th>\n",
       "      <td>NaN</td>\n",
       "      <td>22.70</td>\n",
       "      <td>8.63</td>\n",
       "      <td>5.59</td>\n",
       "    </tr>\n",
       "    <tr>\n",
       "      <th>2014-02-01</th>\n",
       "      <td>NaN</td>\n",
       "      <td>8.72</td>\n",
       "      <td>8.43</td>\n",
       "      <td>3.68</td>\n",
       "    </tr>\n",
       "    <tr>\n",
       "      <th>2014-03-01</th>\n",
       "      <td>NaN</td>\n",
       "      <td>13.83</td>\n",
       "      <td>9.77</td>\n",
       "      <td>3.83</td>\n",
       "    </tr>\n",
       "    <tr>\n",
       "      <th>2014-04-01</th>\n",
       "      <td>NaN</td>\n",
       "      <td>27.64</td>\n",
       "      <td>6.83</td>\n",
       "      <td>9.64</td>\n",
       "    </tr>\n",
       "    <tr>\n",
       "      <th>2014-05-01</th>\n",
       "      <td>NaN</td>\n",
       "      <td>37.17</td>\n",
       "      <td>7.34</td>\n",
       "      <td>11.06</td>\n",
       "    </tr>\n",
       "  </tbody>\n",
       "</table>\n",
       "</div>"
      ],
      "text/plain": [
       "            PM2.5    SO2  Ozone    NO2\n",
       "From Date                             \n",
       "2014-01-01    NaN  22.70   8.63   5.59\n",
       "2014-02-01    NaN   8.72   8.43   3.68\n",
       "2014-03-01    NaN  13.83   9.77   3.83\n",
       "2014-04-01    NaN  27.64   6.83   9.64\n",
       "2014-05-01    NaN  37.17   7.34  11.06"
      ]
     },
     "execution_count": 16,
     "metadata": {},
     "output_type": "execute_result"
    }
   ],
   "source": [
    "df_pollutents.head()"
   ]
  },
  {
   "cell_type": "code",
   "execution_count": 17,
   "id": "f42399e9",
   "metadata": {},
   "outputs": [],
   "source": [
    "df_pollutents['year'] = df_pollutents.index.year.values"
   ]
  },
  {
   "cell_type": "code",
   "execution_count": 18,
   "id": "b7a1085e",
   "metadata": {},
   "outputs": [
    {
     "data": {
      "text/html": [
       "<div>\n",
       "<style scoped>\n",
       "    .dataframe tbody tr th:only-of-type {\n",
       "        vertical-align: middle;\n",
       "    }\n",
       "\n",
       "    .dataframe tbody tr th {\n",
       "        vertical-align: top;\n",
       "    }\n",
       "\n",
       "    .dataframe thead th {\n",
       "        text-align: right;\n",
       "    }\n",
       "</style>\n",
       "<table border=\"1\" class=\"dataframe\">\n",
       "  <thead>\n",
       "    <tr style=\"text-align: right;\">\n",
       "      <th></th>\n",
       "      <th>PM2.5</th>\n",
       "      <th>SO2</th>\n",
       "      <th>Ozone</th>\n",
       "      <th>NO2</th>\n",
       "      <th>year</th>\n",
       "    </tr>\n",
       "    <tr>\n",
       "      <th>From Date</th>\n",
       "      <th></th>\n",
       "      <th></th>\n",
       "      <th></th>\n",
       "      <th></th>\n",
       "      <th></th>\n",
       "    </tr>\n",
       "  </thead>\n",
       "  <tbody>\n",
       "    <tr>\n",
       "      <th>2014-01-01</th>\n",
       "      <td>NaN</td>\n",
       "      <td>22.70</td>\n",
       "      <td>8.63</td>\n",
       "      <td>5.59</td>\n",
       "      <td>2014.0</td>\n",
       "    </tr>\n",
       "    <tr>\n",
       "      <th>2014-02-01</th>\n",
       "      <td>NaN</td>\n",
       "      <td>8.72</td>\n",
       "      <td>8.43</td>\n",
       "      <td>3.68</td>\n",
       "      <td>2014.0</td>\n",
       "    </tr>\n",
       "    <tr>\n",
       "      <th>2014-03-01</th>\n",
       "      <td>NaN</td>\n",
       "      <td>13.83</td>\n",
       "      <td>9.77</td>\n",
       "      <td>3.83</td>\n",
       "      <td>2014.0</td>\n",
       "    </tr>\n",
       "    <tr>\n",
       "      <th>2014-04-01</th>\n",
       "      <td>NaN</td>\n",
       "      <td>27.64</td>\n",
       "      <td>6.83</td>\n",
       "      <td>9.64</td>\n",
       "      <td>2014.0</td>\n",
       "    </tr>\n",
       "    <tr>\n",
       "      <th>2014-05-01</th>\n",
       "      <td>NaN</td>\n",
       "      <td>37.17</td>\n",
       "      <td>7.34</td>\n",
       "      <td>11.06</td>\n",
       "      <td>2014.0</td>\n",
       "    </tr>\n",
       "  </tbody>\n",
       "</table>\n",
       "</div>"
      ],
      "text/plain": [
       "            PM2.5    SO2  Ozone    NO2    year\n",
       "From Date                                     \n",
       "2014-01-01    NaN  22.70   8.63   5.59  2014.0\n",
       "2014-02-01    NaN   8.72   8.43   3.68  2014.0\n",
       "2014-03-01    NaN  13.83   9.77   3.83  2014.0\n",
       "2014-04-01    NaN  27.64   6.83   9.64  2014.0\n",
       "2014-05-01    NaN  37.17   7.34  11.06  2014.0"
      ]
     },
     "execution_count": 18,
     "metadata": {},
     "output_type": "execute_result"
    }
   ],
   "source": [
    "df_pollutents.head()"
   ]
  },
  {
   "cell_type": "code",
   "execution_count": 19,
   "id": "fd33586e",
   "metadata": {},
   "outputs": [
    {
     "data": {
      "text/plain": [
       "Text(-0.5, 38, 'Annual avg. standard for NO2')"
      ]
     },
     "execution_count": 19,
     "metadata": {},
     "output_type": "execute_result"
    },
    {
     "data": {
      "image/png": "[encoded data removed]",
      "text/plain": [
       "<Figure size 576x396 with 1 Axes>"
      ]
     },
     "metadata": {},
     "output_type": "display_data"
    }
   ],
   "source": [
    "df_pollutents[['NO2','year']].groupby('year').mean().plot(kind='bar')\n",
    "plt.hlines(40, -.9,15, linestyles=\"dashed\")\n",
    "plt.annotate('Annual avg. standard for NO2',(-0.5,38))\n"
   ]
  },
  {
   "cell_type": "code",
   "execution_count": 20,
   "id": "af090e01",
   "metadata": {},
   "outputs": [],
   "source": [
    "df_no2 = df_pollutents[['NO2','year']].groupby('year').mean()\n",
    "df_so2 = df_pollutents[['SO2','year']].groupby('year').mean()\n",
    "df_pm = df_pollutents[['PM2.5','year']].groupby('year').mean()\n",
    "df_ozone = df_pollutents[['Ozone','year']].groupby('year').mean()"
   ]
  },
  {
   "cell_type": "code",
   "execution_count": 21,
   "id": "c4d2e1b8",
   "metadata": {
    "scrolled": false
   },
   "outputs": [
    {
     "data": {
      "image/png": "[encoded data removed]",
      "text/plain": [
       "<Figure size 1440x360 with 3 Axes>"
      ]
     },
     "metadata": {},
     "output_type": "display_data"
    }
   ],
   "source": [
    "fig , (ax1,ax2,ax3) = plt.subplots(1,3)\n",
    "df_no2.plot(kind='bar',figsize=(20,5),ax=ax1)\n",
    "\n",
    "ax1.set_title(\"NO2\", fontsize=14)\n",
    "ax1.set_xlabel(\"Years\", fontsize=14)\n",
    "ax1.set_ylabel(\"Yearly average\", fontsize=14)\n",
    "\n",
    "#Creating a dashed line to indicate the annual standard\n",
    "ax1.hlines(40, -.9,15, linestyles=\"dashed\")\n",
    "#Labelling this dashed line\n",
    "ax1.annotate('Annual avg. standard for NO2',(-0.5,38))\n",
    "\n",
    "for bar in ax1.patches:\n",
    "    yval = round(bar.get_height(),2)\n",
    "    ax1.text(bar.get_x(), yval+1, yval)\n",
    "    \n",
    "\n",
    "df_so2.plot(kind='bar',figsize=(20,5),ax=ax2)\n",
    "\n",
    "ax2.set_title(\"SO2\", fontsize=18)\n",
    "ax2.set_xlabel(\"Years\", fontsize=14)\n",
    "\n",
    "#Creating a dashed line to indicate the annual standard\n",
    "ax2.hlines(50, -.9,15, linestyles=\"dashed\")\n",
    "#Labelling this dashed line\n",
    "ax2.annotate('Annual avg. standard for NO2',(-0.5,48))\n",
    "\n",
    "for bar in ax2.patches:\n",
    "    yval = round(bar.get_height(),2)\n",
    "    ax2.text(bar.get_x(), yval+1, yval)\n",
    "    \n",
    "df_pm.plot(kind='bar',figsize=(20,5),ax=ax3)\n",
    "\n",
    "ax3.set_title(\"PM2\", fontsize=18)\n",
    "ax3.set_xlabel(\"Years\", fontsize=14)\n",
    "\n",
    "#Creating a dashed line to indicate the annual standard\n",
    "ax3.hlines(40, -.9,15, linestyles=\"dashed\")\n",
    "#Labelling this dashed line\n",
    "ax3.annotate('Annual avg. standard for PM2',(-0.5,48))\n",
    "\n",
    "for bar in ax3.patches:\n",
    "    yval = round(bar.get_height(),2)\n",
    "    ax3.text(bar.get_x(), yval+1, yval)"
   ]
  },
  {
   "cell_type": "code",
   "execution_count": 22,
   "id": "a200fa80",
   "metadata": {},
   "outputs": [
    {
     "name": "stdout",
     "output_type": "stream",
     "text": [
      "<class 'pandas.core.frame.DataFrame'>\n",
      "DatetimeIndex: 2192 entries, 2014-01-01 to NaT\n",
      "Data columns (total 5 columns):\n",
      " #   Column  Non-Null Count  Dtype  \n",
      "---  ------  --------------  -----  \n",
      " 0   PM2.5   1630 non-null   float64\n",
      " 1   SO2     2108 non-null   float64\n",
      " 2   Ozone   2086 non-null   float64\n",
      " 3   NO2     2087 non-null   float64\n",
      " 4   year    2191 non-null   float64\n",
      "dtypes: float64(5)\n",
      "memory usage: 102.8 KB\n"
     ]
    }
   ],
   "source": [
    "df_pollutents.info()"
   ]
  },
  {
   "cell_type": "code",
   "execution_count": 23,
   "id": "e25fbb67",
   "metadata": {},
   "outputs": [
    {
     "data": {
      "text/plain": [
       "<AxesSubplot:xlabel='year'>"
      ]
     },
     "execution_count": 23,
     "metadata": {},
     "output_type": "execute_result"
    },
    {
     "data": {
      "image/png": "[encoded data removed]",
      "text/plain": [
       "<Figure size 720x360 with 1 Axes>"
      ]
     },
     "metadata": {},
     "output_type": "display_data"
    }
   ],
   "source": [
    "df_pollutents.groupby(\"year\").mean().plot(kind='bar',figsize=(10,5))\n"
   ]
  },
  {
   "cell_type": "markdown",
   "id": "5b4453c3",
   "metadata": {},
   "source": [
    "### Part 2 of air quality analysis: Plotting the number of days in each year where 24-hourly standards are exceeded for PM2.5 and NO2"
   ]
  },
  {
   "cell_type": "code",
   "execution_count": 24,
   "id": "0b4438a1",
   "metadata": {},
   "outputs": [],
   "source": [
    "df_pollutents2016 = df_pollutents[df_pollutents['year']==2016]\n",
    "df_pollutents2017 = df_pollutents[df_pollutents['year']==2017]\n",
    "df_pollutents2018 = df_pollutents[df_pollutents['year']==2018]\n",
    "df_pollutents2019 = df_pollutents[df_pollutents['year']==2019]"
   ]
  },
  {
   "cell_type": "code",
   "execution_count": 25,
   "id": "37f06639",
   "metadata": {},
   "outputs": [],
   "source": [
    "#2016\n",
    "a2=df_pollutents2016 [(df_pollutents2016 ['PM2.5']<=60)]['PM2.5'].count()\n",
    "b2=df_pollutents2016 [((df_pollutents2016 ['PM2.5']>60) & (df_pollutents2016['PM2.5']<=120))]['PM2.5'].count()\n",
    "c2=df_pollutents2016 [((df_pollutents2016 ['PM2.5']>120) & (df_pollutents2016['PM2.5']<=180))]['PM2.5'].count()\n",
    "d2=df_pollutents2016 [(df_pollutents2016 ['PM2.5']>180)]['PM2.5'].count()\n",
    "\n",
    "dfpb2016 = pd.DataFrame({'year':'2016',\n",
    "                         'pm levels':['<60','between 61 and 120','between 121 and 180','greater than 180'],\n",
    "                         'number of critical days':[a2,b2,c2,d2]})\n",
    "\n",
    "#2017\n",
    "a3=df_pollutents2017 [(df_pollutents2017 ['PM2.5']<=60)]['PM2.5'].count()\n",
    "b3=df_pollutents2017 [((df_pollutents2017 ['PM2.5']>60) & (df_pollutents2017['PM2.5']<=120))]['PM2.5'].count()\n",
    "c3=df_pollutents2017 [((df_pollutents2017 ['PM2.5']>120) & (df_pollutents2017['PM2.5']<=180))]['PM2.5'].count()\n",
    "d3=df_pollutents2017 [(df_pollutents2017 ['PM2.5']>180)]['PM2.5'].count()\n",
    "\n",
    "dfpb2017 = pd.DataFrame({'year':'2017',\n",
    "                         'pm levels':['<60','between 61 and 120','between 121 and 180','greater than 180'],\n",
    "                         'number of critical days':[a3,b3,c3,d3]})\n",
    "\n",
    "#2018\n",
    "a4=df_pollutents2018 [(df_pollutents2018 ['PM2.5']<=60)]['PM2.5'].count()\n",
    "b4=df_pollutents2018 [((df_pollutents2018 ['PM2.5']>60) & (df_pollutents2018['PM2.5']<=120))]['PM2.5'].count()\n",
    "c4=df_pollutents2018 [((df_pollutents2018 ['PM2.5']>120) & (df_pollutents2018['PM2.5']<=180))]['PM2.5'].count()\n",
    "d4=df_pollutents2018 [(df_pollutents2018 ['PM2.5']>180)]['PM2.5'].count()\n",
    "\n",
    "dfpb2018 = pd.DataFrame({'year':'2018',\n",
    "                         'pm levels':['<60','between 61 and 120','between 121 and 180','greater than 180'],\n",
    "                         'number of critical days':[a4,b4,c4,d4]})\n",
    "\n",
    "#2019\n",
    "a5=df_pollutents2019 [(df_pollutents2019 ['PM2.5']<=60)]['PM2.5'].count()\n",
    "b5=df_pollutents2019 [((df_pollutents2019 ['PM2.5']>60) & (df_pollutents2019['PM2.5']<=120))]['PM2.5'].count()\n",
    "c5=df_pollutents2019 [((df_pollutents2019 ['PM2.5']>120) & (df_pollutents2019['PM2.5']<=180))]['PM2.5'].count()\n",
    "d5=df_pollutents2019 [(df_pollutents2019 ['PM2.5']>180)]['PM2.5'].count()\n",
    "\n",
    "dfpb2019 = pd.DataFrame({'year':'2019',\n",
    "                         'pm levels':['<60','between 61 and 120','between 121 and 180','greater than 180'],\n",
    "                         'number of critical days':[a5,b5,c5,d5]})\n",
    "\n"
   ]
  },
  {
   "cell_type": "code",
   "execution_count": 26,
   "id": "5cd6e9f9",
   "metadata": {},
   "outputs": [
    {
     "data": {
      "text/html": [
       "<div>\n",
       "<style scoped>\n",
       "    .dataframe tbody tr th:only-of-type {\n",
       "        vertical-align: middle;\n",
       "    }\n",
       "\n",
       "    .dataframe tbody tr th {\n",
       "        vertical-align: top;\n",
       "    }\n",
       "\n",
       "    .dataframe thead th {\n",
       "        text-align: right;\n",
       "    }\n",
       "</style>\n",
       "<table border=\"1\" class=\"dataframe\">\n",
       "  <thead>\n",
       "    <tr style=\"text-align: right;\">\n",
       "      <th></th>\n",
       "      <th>year</th>\n",
       "      <th>pm levels</th>\n",
       "      <th>number of critical days</th>\n",
       "    </tr>\n",
       "  </thead>\n",
       "  <tbody>\n",
       "    <tr>\n",
       "      <th>0</th>\n",
       "      <td>2016</td>\n",
       "      <td>&lt;60</td>\n",
       "      <td>39</td>\n",
       "    </tr>\n",
       "    <tr>\n",
       "      <th>1</th>\n",
       "      <td>2016</td>\n",
       "      <td>between 61 and 120</td>\n",
       "      <td>121</td>\n",
       "    </tr>\n",
       "    <tr>\n",
       "      <th>2</th>\n",
       "      <td>2016</td>\n",
       "      <td>between 121 and 180</td>\n",
       "      <td>100</td>\n",
       "    </tr>\n",
       "    <tr>\n",
       "      <th>3</th>\n",
       "      <td>2016</td>\n",
       "      <td>greater than 180</td>\n",
       "      <td>63</td>\n",
       "    </tr>\n",
       "  </tbody>\n",
       "</table>\n",
       "</div>"
      ],
      "text/plain": [
       "   year            pm levels  number of critical days\n",
       "0  2016                  <60                       39\n",
       "1  2016   between 61 and 120                      121\n",
       "2  2016  between 121 and 180                      100\n",
       "3  2016     greater than 180                       63"
      ]
     },
     "execution_count": 26,
     "metadata": {},
     "output_type": "execute_result"
    }
   ],
   "source": [
    "dfpb2016"
   ]
  },
  {
   "cell_type": "code",
   "execution_count": 27,
   "id": "282d0033",
   "metadata": {},
   "outputs": [],
   "source": [
    "dfpivot2016=dfpb2016.pivot(index='year',columns='pm levels',values='number of critical days')\n",
    "dfpivot2017=dfpb2017.pivot(index='year',columns='pm levels',values='number of critical days')\n",
    "dfpivot2018=dfpb2018.pivot(index='year',columns='pm levels',values='number of critical days')\n",
    "dfpivot2019=dfpb2019.pivot(index='year',columns='pm levels',values='number of critical days')"
   ]
  },
  {
   "cell_type": "code",
   "execution_count": 28,
   "id": "3f8d4819",
   "metadata": {},
   "outputs": [
    {
     "data": {
      "text/plain": [
       "<matplotlib.legend.Legend at 0x26a23243f40>"
      ]
     },
     "execution_count": 28,
     "metadata": {},
     "output_type": "execute_result"
    },
    {
     "data": {
      "image/png": "[encoded data removed]",
      "text/plain": [
       "<Figure size 1080x360 with 4 Axes>"
      ]
     },
     "metadata": {},
     "output_type": "display_data"
    }
   ],
   "source": [
    "fig, (ax1,ax2,ax3,ax4) =  plt.subplots(1,4,figsize=(15,5))\n",
    "fig.suptitle(\"PM2 level in Number of days per year in each interval\")\n",
    "\n",
    "dfpivot2016.plot.bar(stacked=True,ax=ax1)\n",
    "dfpivot2017.plot.bar(stacked=True,ax=ax2)\n",
    "dfpivot2018.plot.bar(stacked=True,ax=ax3)\n",
    "dfpivot2019.plot.bar(stacked=True,ax=ax4)\n",
    "\n",
    "ax1.legend().set_visible(False)\n",
    "ax2.legend().set_visible(False)\n",
    "ax3.legend().set_visible(False)\n",
    "ax4.legend(loc=0,bbox_to_anchor=(1,1))"
   ]
  },
  {
   "cell_type": "markdown",
   "id": "2da7eb0a",
   "metadata": {},
   "source": [
    "- Same method for NO2 "
   ]
  },
  {
   "cell_type": "code",
   "execution_count": 29,
   "id": "fdad515f",
   "metadata": {},
   "outputs": [],
   "source": [
    "a = df_pollutents2016[df_pollutents2016['NO2'] >= 80]['NO2'].count()\n",
    "b = df_pollutents2017[df_pollutents2017['NO2'] >= 80]['NO2'].count()\n",
    "c = df_pollutents2018[df_pollutents2018['NO2'] >= 80]['NO2'].count()\n",
    "d = df_pollutents2019[df_pollutents2019['NO2'] >= 80]['NO2'].count()\n",
    "\n",
    "dfno2 = pd.DataFrame({'year':[2016,2017,2018,2019],\n",
    "                      'days no2>80':[a,b,c,d]})"
   ]
  },
  {
   "cell_type": "code",
   "execution_count": 30,
   "id": "62bb84a5",
   "metadata": {},
   "outputs": [
    {
     "data": {
      "image/png": "[encoded data removed]",
      "text/plain": [
       "<Figure size 576x396 with 1 Axes>"
      ]
     },
     "metadata": {},
     "output_type": "display_data"
    }
   ],
   "source": [
    "ax = dfno2.plot(kind='bar',x='year',y='days no2>80')\n",
    "ax.set_title(\"NO2 number of days in each year with NO2 levels > 80\")\n",
    "ax.legend().set_visible(False)"
   ]
  },
  {
   "cell_type": "markdown",
   "id": "05d1e336",
   "metadata": {},
   "source": [
    "## 3. Temporal variation: Which are the months where the pollution levels exceed critical levels on most days?\n",
    "\n",
    "- To do this, for each of the twelve months, we capture the number of critical air pollution days every year with 24-hourly PM2.5 values exceeding 180 μg/m3\n",
    ".\n"
   ]
  },
  {
   "cell_type": "code",
   "execution_count": 31,
   "id": "efdf574b",
   "metadata": {},
   "outputs": [
    {
     "name": "stdout",
     "output_type": "stream",
     "text": [
      "<class 'pandas.core.frame.DataFrame'>\n",
      "DatetimeIndex: 2192 entries, 2014-01-01 to NaT\n",
      "Data columns (total 5 columns):\n",
      " #   Column  Non-Null Count  Dtype  \n",
      "---  ------  --------------  -----  \n",
      " 0   PM2.5   1630 non-null   float64\n",
      " 1   SO2     2108 non-null   float64\n",
      " 2   Ozone   2086 non-null   float64\n",
      " 3   NO2     2087 non-null   float64\n",
      " 4   year    2191 non-null   float64\n",
      "dtypes: float64(5)\n",
      "memory usage: 102.8 KB\n"
     ]
    }
   ],
   "source": [
    "df_pollutents.info()"
   ]
  },
  {
   "cell_type": "code",
   "execution_count": 38,
   "id": "300f1ccd",
   "metadata": {},
   "outputs": [],
   "source": [
    "df_3 = df_pollutents.drop(['SO2','Ozone','NO2'],axis=1)"
   ]
  },
  {
   "cell_type": "code",
   "execution_count": 47,
   "id": "26c66fb8",
   "metadata": {},
   "outputs": [],
   "source": [
    "df_3['month'] = df_3.index.month.values.astype('int')"
   ]
  },
  {
   "cell_type": "code",
   "execution_count": 65,
   "id": "6c22b1e1",
   "metadata": {},
   "outputs": [],
   "source": [
    "df_3['above_level'] = (df_3['PM2.5'] >= 180)"
   ]
  },
  {
   "cell_type": "code",
   "execution_count": 70,
   "id": "b01f9618",
   "metadata": {},
   "outputs": [],
   "source": [
    "df_3['above_level'] = df_3['above_level'].replace({False:np.nan})"
   ]
  },
  {
   "cell_type": "code",
   "execution_count": 94,
   "id": "8ad2c425",
   "metadata": {},
   "outputs": [
    {
     "data": {
      "text/html": [
       "<div>\n",
       "<style scoped>\n",
       "    .dataframe tbody tr th:only-of-type {\n",
       "        vertical-align: middle;\n",
       "    }\n",
       "\n",
       "    .dataframe tbody tr th {\n",
       "        vertical-align: top;\n",
       "    }\n",
       "\n",
       "    .dataframe thead th {\n",
       "        text-align: right;\n",
       "    }\n",
       "</style>\n",
       "<table border=\"1\" class=\"dataframe\">\n",
       "  <thead>\n",
       "    <tr style=\"text-align: right;\">\n",
       "      <th></th>\n",
       "      <th>2016</th>\n",
       "      <th>2017</th>\n",
       "      <th>2018</th>\n",
       "      <th>2019</th>\n",
       "    </tr>\n",
       "    <tr>\n",
       "      <th>month</th>\n",
       "      <th></th>\n",
       "      <th></th>\n",
       "      <th></th>\n",
       "      <th></th>\n",
       "    </tr>\n",
       "  </thead>\n",
       "  <tbody>\n",
       "    <tr>\n",
       "      <th>1</th>\n",
       "      <td>18</td>\n",
       "      <td>4</td>\n",
       "      <td>12</td>\n",
       "      <td>9</td>\n",
       "    </tr>\n",
       "    <tr>\n",
       "      <th>2</th>\n",
       "      <td>3</td>\n",
       "      <td>1</td>\n",
       "      <td>3</td>\n",
       "      <td>3</td>\n",
       "    </tr>\n",
       "    <tr>\n",
       "      <th>3</th>\n",
       "      <td>1</td>\n",
       "      <td>6</td>\n",
       "      <td>1</td>\n",
       "      <td>2</td>\n",
       "    </tr>\n",
       "    <tr>\n",
       "      <th>4</th>\n",
       "      <td>5</td>\n",
       "      <td>2</td>\n",
       "      <td>1</td>\n",
       "      <td>2</td>\n",
       "    </tr>\n",
       "    <tr>\n",
       "      <th>5</th>\n",
       "      <td>4</td>\n",
       "      <td>3</td>\n",
       "      <td>2</td>\n",
       "      <td>4</td>\n",
       "    </tr>\n",
       "    <tr>\n",
       "      <th>6</th>\n",
       "      <td>10</td>\n",
       "      <td>6</td>\n",
       "      <td>4</td>\n",
       "      <td>1</td>\n",
       "    </tr>\n",
       "    <tr>\n",
       "      <th>7</th>\n",
       "      <td>5</td>\n",
       "      <td>1</td>\n",
       "      <td>1</td>\n",
       "      <td>2</td>\n",
       "    </tr>\n",
       "    <tr>\n",
       "      <th>8</th>\n",
       "      <td>3</td>\n",
       "      <td>2</td>\n",
       "      <td>3</td>\n",
       "      <td>1</td>\n",
       "    </tr>\n",
       "    <tr>\n",
       "      <th>9</th>\n",
       "      <td>2</td>\n",
       "      <td>2</td>\n",
       "      <td>3</td>\n",
       "      <td>0</td>\n",
       "    </tr>\n",
       "    <tr>\n",
       "      <th>10</th>\n",
       "      <td>5</td>\n",
       "      <td>11</td>\n",
       "      <td>8</td>\n",
       "      <td>5</td>\n",
       "    </tr>\n",
       "    <tr>\n",
       "      <th>11</th>\n",
       "      <td>3</td>\n",
       "      <td>15</td>\n",
       "      <td>3</td>\n",
       "      <td>10</td>\n",
       "    </tr>\n",
       "    <tr>\n",
       "      <th>12</th>\n",
       "      <td>4</td>\n",
       "      <td>10</td>\n",
       "      <td>14</td>\n",
       "      <td>15</td>\n",
       "    </tr>\n",
       "  </tbody>\n",
       "</table>\n",
       "</div>"
      ],
      "text/plain": [
       "       2016  2017  2018  2019\n",
       "month                        \n",
       "1        18     4    12     9\n",
       "2         3     1     3     3\n",
       "3         1     6     1     2\n",
       "4         5     2     1     2\n",
       "5         4     3     2     4\n",
       "6        10     6     4     1\n",
       "7         5     1     1     2\n",
       "8         3     2     3     1\n",
       "9         2     2     3     0\n",
       "10        5    11     8     5\n",
       "11        3    15     3    10\n",
       "12        4    10    14    15"
      ]
     },
     "execution_count": 94,
     "metadata": {},
     "output_type": "execute_result"
    }
   ],
   "source": [
    "sec1 = df_3[df_3['year'] == 2016.0].groupby('month')['above_level'].count()\n",
    "sec2 = df_3[df_3['year'] == 2017.0].groupby('month')['above_level'].count()\n",
    "sec3 = df_3[df_3['year'] == 2018.0].groupby('month')['above_level'].count()\n",
    "sec4 = df_3[df_3['year'] == 2019.0].groupby('month')['above_level'].count()\n",
    "\n",
    "\n",
    "selectionc=pd.concat([sec1,sec2,sec3,sec4],axis=1)\n",
    "#renaming the columns\n",
    "selectionc.columns=['2016','2017','2018','2019']\n",
    "selectionc"
   ]
  },
  {
   "cell_type": "code",
   "execution_count": 110,
   "id": "40d32614",
   "metadata": {},
   "outputs": [
    {
     "data": {
      "text/plain": [
       "<AxesSubplot:ylabel='month'>"
      ]
     },
     "execution_count": 110,
     "metadata": {},
     "output_type": "execute_result"
    },
    {
     "data": {
      "image/png": "[encoded data removed]",
      "text/plain": [
       "<Figure size 576x396 with 2 Axes>"
      ]
     },
     "metadata": {},
     "output_type": "display_data"
    }
   ],
   "source": [
    "sns.heatmap(data=selectionc,fmt='d',annot=True,cmap='YlGnBu')"
   ]
  },
  {
   "cell_type": "code",
   "execution_count": 104,
   "id": "4928be91",
   "metadata": {},
   "outputs": [],
   "source": [
    "months= {1:'January', 2:'February', 3:'March', 4:'April', 5:'May', 6:'June',7:'July', 8:'August', \n",
    "         9:'September', 10:'October', 11:'November', 12:'December'}"
   ]
  },
  {
   "cell_type": "code",
   "execution_count": 108,
   "id": "8326009c",
   "metadata": {},
   "outputs": [],
   "source": [
    "selectionc.rename(months, axis=0,inplace=True)"
   ]
  },
  {
   "cell_type": "code",
   "execution_count": 109,
   "id": "18073e1f",
   "metadata": {},
   "outputs": [
    {
     "data": {
      "text/html": [
       "<div>\n",
       "<style scoped>\n",
       "    .dataframe tbody tr th:only-of-type {\n",
       "        vertical-align: middle;\n",
       "    }\n",
       "\n",
       "    .dataframe tbody tr th {\n",
       "        vertical-align: top;\n",
       "    }\n",
       "\n",
       "    .dataframe thead th {\n",
       "        text-align: right;\n",
       "    }\n",
       "</style>\n",
       "<table border=\"1\" class=\"dataframe\">\n",
       "  <thead>\n",
       "    <tr style=\"text-align: right;\">\n",
       "      <th></th>\n",
       "      <th>2016</th>\n",
       "      <th>2017</th>\n",
       "      <th>2018</th>\n",
       "      <th>2019</th>\n",
       "    </tr>\n",
       "    <tr>\n",
       "      <th>month</th>\n",
       "      <th></th>\n",
       "      <th></th>\n",
       "      <th></th>\n",
       "      <th></th>\n",
       "    </tr>\n",
       "  </thead>\n",
       "  <tbody>\n",
       "    <tr>\n",
       "      <th>January</th>\n",
       "      <td>18</td>\n",
       "      <td>4</td>\n",
       "      <td>12</td>\n",
       "      <td>9</td>\n",
       "    </tr>\n",
       "    <tr>\n",
       "      <th>February</th>\n",
       "      <td>3</td>\n",
       "      <td>1</td>\n",
       "      <td>3</td>\n",
       "      <td>3</td>\n",
       "    </tr>\n",
       "    <tr>\n",
       "      <th>March</th>\n",
       "      <td>1</td>\n",
       "      <td>6</td>\n",
       "      <td>1</td>\n",
       "      <td>2</td>\n",
       "    </tr>\n",
       "    <tr>\n",
       "      <th>April</th>\n",
       "      <td>5</td>\n",
       "      <td>2</td>\n",
       "      <td>1</td>\n",
       "      <td>2</td>\n",
       "    </tr>\n",
       "    <tr>\n",
       "      <th>May</th>\n",
       "      <td>4</td>\n",
       "      <td>3</td>\n",
       "      <td>2</td>\n",
       "      <td>4</td>\n",
       "    </tr>\n",
       "    <tr>\n",
       "      <th>June</th>\n",
       "      <td>10</td>\n",
       "      <td>6</td>\n",
       "      <td>4</td>\n",
       "      <td>1</td>\n",
       "    </tr>\n",
       "    <tr>\n",
       "      <th>July</th>\n",
       "      <td>5</td>\n",
       "      <td>1</td>\n",
       "      <td>1</td>\n",
       "      <td>2</td>\n",
       "    </tr>\n",
       "    <tr>\n",
       "      <th>August</th>\n",
       "      <td>3</td>\n",
       "      <td>2</td>\n",
       "      <td>3</td>\n",
       "      <td>1</td>\n",
       "    </tr>\n",
       "    <tr>\n",
       "      <th>September</th>\n",
       "      <td>2</td>\n",
       "      <td>2</td>\n",
       "      <td>3</td>\n",
       "      <td>0</td>\n",
       "    </tr>\n",
       "    <tr>\n",
       "      <th>October</th>\n",
       "      <td>5</td>\n",
       "      <td>11</td>\n",
       "      <td>8</td>\n",
       "      <td>5</td>\n",
       "    </tr>\n",
       "    <tr>\n",
       "      <th>November</th>\n",
       "      <td>3</td>\n",
       "      <td>15</td>\n",
       "      <td>3</td>\n",
       "      <td>10</td>\n",
       "    </tr>\n",
       "    <tr>\n",
       "      <th>December</th>\n",
       "      <td>4</td>\n",
       "      <td>10</td>\n",
       "      <td>14</td>\n",
       "      <td>15</td>\n",
       "    </tr>\n",
       "  </tbody>\n",
       "</table>\n",
       "</div>"
      ],
      "text/plain": [
       "           2016  2017  2018  2019\n",
       "month                            \n",
       "January      18     4    12     9\n",
       "February      3     1     3     3\n",
       "March         1     6     1     2\n",
       "April         5     2     1     2\n",
       "May           4     3     2     4\n",
       "June         10     6     4     1\n",
       "July          5     1     1     2\n",
       "August        3     2     3     1\n",
       "September     2     2     3     0\n",
       "October       5    11     8     5\n",
       "November      3    15     3    10\n",
       "December      4    10    14    15"
      ]
     },
     "execution_count": 109,
     "metadata": {},
     "output_type": "execute_result"
    }
   ],
   "source": [
    "selectionc"
   ]
  },
  {
   "cell_type": "code",
   "execution_count": null,
   "id": "21bab0c5",
   "metadata": {},
   "outputs": [],
   "source": []
  }
 ],
 "metadata": {
  "kernelspec": {
   "display_name": "Python 3",
   "language": "python",
   "name": "python3"
  },
  "language_info": {
   "codemirror_mode": {
    "name": "ipython",
    "version": 3
   },
   "file_extension": ".py",
   "mimetype": "text/x-python",
   "name": "python",
   "nbconvert_exporter": "python",
   "pygments_lexer": "ipython3",
   "version": "3.8.8"
  }
 },
 "nbformat": 4,
 "nbformat_minor": 5
}
